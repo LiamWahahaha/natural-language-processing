{
 "cells": [
  {
   "cell_type": "markdown",
   "metadata": {},
   "source": [
    "# Replacing and Correcting Words\n",
    "\n",
    "- Stemming words\n",
    "- Lemmatizing words with WordNet\n",
    "- Replacing words matching regular expressions\n",
    "- Removing repeating characters\n",
    "- Spelling correction with Enchant\n",
    "- Replacing synonyms\n",
    "- Replacing negations with antonyms"
   ]
  },
  {
   "cell_type": "markdown",
   "metadata": {},
   "source": [
    "## Stemming words\n",
    "\n",
    "- A technique to remove affixes from a word, engind up with the stem\n",
    " - e.g., cooking -> cook\n",
    "- Common stemming algorithms\n",
    " - Porter stemming algorithm \n",
    "   - remove and replace well-known suffixes of English words\n",
    "   - generally the default choice\n",
    " - Lancaster stemming algorithm\n",
    " - SnowballStemmer\n",
    "   - support 13 non-English languages\n",
    "   - provide the original porter algorithm as well as the new English stemming algorithm\n",
    " - DIY by using the RegexpStemmer\n",
    "   - take a single regular expression (either compiled or as a string) and removes any prefix or suffix that matches the expression"
   ]
  },
  {
   "cell_type": "code",
   "execution_count": 10,
   "metadata": {},
   "outputs": [
    {
     "name": "stdout",
     "output_type": "stream",
     "text": [
      "    Word        Porter     Lancaster     Snowball      Regexp   \n",
      "  cooking        cook         cook         cook         cook    \n",
      "  cookery      cookeri      cookery      cookeri      cookery   \n",
      " ingleside     inglesid     inglesid     inglesid      leside   \n"
     ]
    }
   ],
   "source": [
    "from nltk.stem import PorterStemmer\n",
    "from nltk.stem import LancasterStemmer\n",
    "from nltk.stem import SnowballStemmer\n",
    "from nltk.stem import RegexpStemmer\n",
    "\n",
    "words = ['cooking', 'cookery', 'ingleside']\n",
    "# Porter\n",
    "p_stemmer = PorterStemmer()\n",
    "l_stemmer = LancasterStemmer()\n",
    "s_stemmer = SnowballStemmer('english')\n",
    "r_stemmer = RegexpStemmer('ing')\n",
    "string_format = '{:^12} {:^12} {:^12} {:^12} {:^12}'\n",
    "print(string_format.format('Word', 'Porter', 'Lancaster', 'Snowball', 'Regexp'))\n",
    "for word in words:\n",
    "    print(string_format.format(word,\n",
    "                               p_stemmer.stem(word),\n",
    "                               l_stemmer.stem(word),\n",
    "                               s_stemmer.stem(word),\n",
    "                               r_stemmer.stem(word)))"
   ]
  },
  {
   "cell_type": "markdown",
   "metadata": {},
   "source": [
    "## Lemmatizing words with WordNet\n",
    "\n",
    "- Lemmatizing is silimar to stemming, but is more akin to synonum replacement.\n",
    "- Unlike stemming, we are always left with a valid word\n",
    "- Side effect is that the word may end up completely different.\n",
    "\n",
    "### Combining stemming with lemmatization\n",
    "\n",
    "Stemming and lemmatization can be combined to compress words more than either process can by itself."
   ]
  },
  {
   "cell_type": "code",
   "execution_count": 13,
   "metadata": {},
   "outputs": [
    {
     "name": "stdout",
     "output_type": "stream",
     "text": [
      "cooking    cooking\n",
      "cooking    cook\n",
      "cookbooks  cookbook\n",
      "cookery    cookery\n"
     ]
    }
   ],
   "source": [
    "from nltk.stem import WordNetLemmatizer\n",
    "lemmatizer = WordNetLemmatizer()\n",
    "print('cooking   ', lemmatizer.lemmatize('cooking'))\n",
    "print('cooking   ', lemmatizer.lemmatize('cooking', pos='v'))\n",
    "print('cookbooks ', lemmatizer.lemmatize('cookbooks'))\n",
    "print('cookery   ', lemmatizer.lemmatize('cookery'))"
   ]
  },
  {
   "cell_type": "markdown",
   "metadata": {},
   "source": [
    "## Replacing words matching regular expressions\n",
    "\n",
    "This recipe aims to fix the trouble with contractions by replacing contractions with their expanded forms.\n",
    "\n",
    "### How to do it?\n",
    "- Define a number of replacement patterns.\n",
    "- Create a RegexReplacer class that will compile the patterns and provide a replace() method to substitute all the found patterns with their replacements"
   ]
  },
  {
   "cell_type": "code",
   "execution_count": 19,
   "metadata": {},
   "outputs": [
    {
     "name": "stdout",
     "output_type": "stream",
     "text": [
      "can't is a contraction\n",
      "cannot is a contraction\n",
      "\n",
      "I should've done that thing I didn't do\n",
      "I should have done that thing I did not do\n",
      "\n"
     ]
    }
   ],
   "source": [
    "import re\n",
    "\n",
    "replacement_patterns = [\n",
    "    (r'won\\'t', 'will not'),\n",
    "    (r'can\\'t', 'cannot'),\n",
    "    (r'i\\'m', 'i am'),\n",
    "    (r'ain\\'t', 'is not'),\n",
    "    (r'(\\w+)\\'ll', '\\g<1> will'),\n",
    "    (r'(\\w+)n\\'t', '\\g<1> not'),\n",
    "    (r'(\\w+)\\'ve', '\\g<1> have'),\n",
    "    (r'(\\w+)\\'s', '\\g<1> is'),\n",
    "    (r'(\\w+)\\'re', '\\g<1> are'),\n",
    "    (r'(\\w+)\\'d', '\\g<1> would')\n",
    "]\n",
    "\n",
    "class RegexpReplacer(object):\n",
    "    def __init__(self, patterns=replacement_patterns):\n",
    "        self.patterns = [(re.compile(regex), repl) for (regex, repl) in patterns]\n",
    "    \n",
    "    def replace(self, text):\n",
    "        s = text\n",
    "        for (pattern, repl) in self.patterns:\n",
    "            s = re.sub(pattern, repl, s)\n",
    "        return s\n",
    "\n",
    "\n",
    "replacer = RegexpReplacer()\n",
    "for sentence in [\"can't is a contraction\", \"I should've done that thing I didn't do\"]:\n",
    "    print(sentence)\n",
    "    print(replacer.replace(sentence))\n",
    "    print('')"
   ]
  },
  {
   "cell_type": "markdown",
   "metadata": {},
   "source": [
    "### Replacement before tokenization"
   ]
  },
  {
   "cell_type": "code",
   "execution_count": 21,
   "metadata": {},
   "outputs": [
    {
     "name": "stdout",
     "output_type": "stream",
     "text": [
      "['ca', \"n't\", 'is', 'a', 'contraction']\n",
      "['can', 'not', 'is', 'a', 'contraction']\n"
     ]
    }
   ],
   "source": [
    "from nltk.tokenize import word_tokenize\n",
    "replacer = RegexpReplacer()\n",
    "\n",
    "sentence = \"can't is a contraction\"\n",
    "\n",
    "# tokenization only\n",
    "print(word_tokenize(sentence))\n",
    "\n",
    "# Repalce contraction first\n",
    "print(word_tokenize(replacer.replace(sentence)))"
   ]
  },
  {
   "cell_type": "markdown",
   "metadata": {},
   "source": [
    "## Removing repeating characters\n",
    "\n",
    "- This recipe aims to fix repeating characters by backreference.\n",
    "- A backreference is a way to refer to a previously matched group in a regular expression."
   ]
  },
  {
   "cell_type": "code",
   "execution_count": 26,
   "metadata": {},
   "outputs": [],
   "source": [
    "import re\n",
    "from nltk.corpus import wordnet\n",
    "\n",
    "class RepeatReplacer(object):\n",
    "    def __init__(self):\n",
    "        self.repeat_regexp = re.compile(r'(\\w*)(\\w)\\2(\\w*)')\n",
    "        self.repl = r'\\1\\2\\3'\n",
    "    \n",
    "    def replace(self, word):\n",
    "        if wordnet.synsets(word):\n",
    "            return word\n",
    "\n",
    "        repl_word = self.repeat_regexp.sub(self.repl, word)\n",
    "\n",
    "        if repl_word != word:\n",
    "            return self.replace(repl_word)\n",
    "        else:\n",
    "            return repl_word"
   ]
  },
  {
   "cell_type": "markdown",
   "metadata": {},
   "source": [
    "### How it works?\n",
    "\n",
    "The repaet_regexp pattern matches three groups:\n",
    "- 0 or more starting characters (\\w*)\n",
    "- A single character (\\w) that is followed by another instance of that character (\\2)\n",
    "- 0 or more ending characters (\\w*)\n",
    "\n",
    "The replacement string is then used to keep all the matched groups, while discarding the backreference to the second group.\n",
    "\n",
    "For example:\n",
    "looooooove => (looooo)(o)o(ve) => loooooove => ... => love\n",
    "     "
   ]
  },
  {
   "cell_type": "code",
   "execution_count": 28,
   "metadata": {},
   "outputs": [
    {
     "name": "stdout",
     "output_type": "stream",
     "text": [
      " Replaced word          Original word\n",
      "      love                 looooooove\n",
      "      ooh                    oooooooh\n",
      "     goose                      goose\n"
     ]
    }
   ],
   "source": [
    "replacer = RepeatReplacer()\n",
    "words = ['looooooove', 'oooooooh', 'goose']\n",
    "string_format = '{:^16} {:>20}'\n",
    "print(string_format.format('Replaced word', 'Original word'))\n",
    "for word in words:\n",
    "    print(string_format.format(replacer.replace(word), word))"
   ]
  },
  {
   "cell_type": "markdown",
   "metadata": {},
   "source": [
    "## Spelling correction with Enchant\n",
    "\n",
    "### What is Enchant?\n",
    "- A spelling correction API.\n",
    "- An offshoot of the AbiWord open source word processor\n",
    "  - Always ensure that we use the correct dictionary for whichever language we are performing spelling correction on.\n",
    "- Support personal word lists.\n",
    "  - e.g. assuming 'nltk' contain in 'mywords.txt'\n",
    "  \n",
    "  > d = enchant.Dict('en_US')  \n",
    "  d.check('nltk') => False  \n",
    "  d = enchant.DictWithPWL('en_US', 'mywords.txt')  \n",
    "  d.check('nltk') => True\n",
    "- For dictionaries, Aspell is a good open source spellchecker"
   ]
  },
  {
   "cell_type": "code",
   "execution_count": 33,
   "metadata": {},
   "outputs": [
    {
     "name": "stdout",
     "output_type": "stream",
     "text": [
      "['de_DE', 'fr_FR', 'en_GB', 'en_AU', 'en_US']\n",
      "True\n",
      "False\n",
      "True\n"
     ]
    }
   ],
   "source": [
    "import enchant\n",
    "\n",
    "print(enchant.list_languages())\n",
    "\n",
    "dUS = enchant.Dict('en_US')\n",
    "dGB = enchant.Dict('en_GB')\n",
    "\n",
    "print(dUS.check('theater'))\n",
    "print(dGB.check('theater'))\n",
    "print(dGB.check('theatre'))"
   ]
  },
  {
   "cell_type": "code",
   "execution_count": 31,
   "metadata": {},
   "outputs": [],
   "source": [
    "import enchant\n",
    "from nltk.metrics import edit_distance\n",
    "\n",
    "class SpellingReplacer(object):\n",
    "    def __init__(self, dict_name = 'en', max_dist = 2):\n",
    "        self.spell_dict = enchant.Dict(dict_name)\n",
    "        self.max_dist = max_dist\n",
    "    \n",
    "    def replace(self, word):\n",
    "        if self.spell_dict.check(word):\n",
    "            return word\n",
    "\n",
    "        suggestions = self.spell_dict.suggest(word)\n",
    "        \n",
    "        if suggestions and edit_distance(word, suggestions[0]) <= self.max_dist:\n",
    "            return suggestions[0]\n",
    "        else:\n",
    "            return word"
   ]
  },
  {
   "cell_type": "code",
   "execution_count": 34,
   "metadata": {},
   "outputs": [
    {
     "name": "stdout",
     "output_type": "stream",
     "text": [
      "theater\n",
      "theatre\n"
     ]
    }
   ],
   "source": [
    "replacer = SpellingReplacer()\n",
    "replacer.replace('cookbo')\n",
    "\n",
    "us_replacer = SpellingReplacer('en_US')\n",
    "gb_replacer = SpellingReplacer('en_GB')\n",
    "\n",
    "print(us_replacer.replace('theater'))\n",
    "print(gb_replacer.replace('theater'))"
   ]
  },
  {
   "cell_type": "markdown",
   "metadata": {},
   "source": [
    "## Replacing synonyms\n",
    "\n",
    "### Why do we want to replace synonyms?\n",
    "- It is often useful to reduce the vocabulary of a text.\n",
    "- We can save memory in cases such as \n",
    " - frequency analysis (https://en.wikipedia.org/wiki/Frequency_analysis)\n",
    " - text indexing (https://en.wikipedia.org/wiki/Full_text_search)\n",
    " \n",
    "### How to do it?\n",
    "- Option 1: Maintaining a lookup table to replace synonyms like WordReplacer.\n",
    " - It is actually a class wrapper around a Python dictionary.\n",
    " - This is not a good long-term solution\n",
    "- Option 2: Store the synonyms in a CSV file or in a YAML file\n",
    " - the csv file might look like this: bday,birthday\n",
    " - the YAML file should be a simple mapping of word: synonym, such as bday: birthday"
   ]
  },
  {
   "cell_type": "code",
   "execution_count": 40,
   "metadata": {},
   "outputs": [
    {
     "name": "stdout",
     "output_type": "stream",
     "text": [
      "      bday   birthday\n",
      "     happy      happy\n"
     ]
    }
   ],
   "source": [
    "class WordReplacer(object):\n",
    "    def __init__(self, word_map):\n",
    "        self.word_map = word_map\n",
    "    \n",
    "    def replace(self, word):\n",
    "        return self.word_map.get(word, word)\n",
    "\n",
    "replacer = WordReplacer({'bday': 'birthday'})\n",
    "for word in ['bday', 'happy']:\n",
    "    print('{:>10} {:>10}'.format(word, replacer.replace(word)))"
   ]
  },
  {
   "cell_type": "code",
   "execution_count": 44,
   "metadata": {},
   "outputs": [],
   "source": [
    "import csv\n",
    "\n",
    "class CsvWordReplacer(WordReplacer):\n",
    "    def __init__(self, fname):\n",
    "        word_map = {}\n",
    "        for line in csv.reader(open(fname)):\n",
    "            word, syn = line\n",
    "            word_map[word] = syn\n",
    "        super(CsvWordReplacer, self).__init__(word_map)"
   ]
  },
  {
   "cell_type": "code",
   "execution_count": 45,
   "metadata": {},
   "outputs": [
    {
     "ename": "ModuleNotFoundError",
     "evalue": "No module named 'yaml'",
     "output_type": "error",
     "traceback": [
      "\u001b[0;31m-------------------------------------------------------------------------\u001b[0m",
      "\u001b[0;31mModuleNotFoundError\u001b[0m                     Traceback (most recent call last)",
      "\u001b[0;32m<ipython-input-45-18625e1d7c57>\u001b[0m in \u001b[0;36m<module>\u001b[0;34m\u001b[0m\n\u001b[0;32m----> 1\u001b[0;31m \u001b[0;32mimport\u001b[0m \u001b[0myaml\u001b[0m\u001b[0;34m\u001b[0m\u001b[0;34m\u001b[0m\u001b[0m\n\u001b[0m\u001b[1;32m      2\u001b[0m \u001b[0;34m\u001b[0m\u001b[0m\n\u001b[1;32m      3\u001b[0m \u001b[0;32mclass\u001b[0m \u001b[0mYamlWordReplacer\u001b[0m\u001b[0;34m(\u001b[0m\u001b[0mWordReplacer\u001b[0m\u001b[0;34m)\u001b[0m\u001b[0;34m:\u001b[0m\u001b[0;34m\u001b[0m\u001b[0;34m\u001b[0m\u001b[0m\n\u001b[1;32m      4\u001b[0m     \u001b[0;32mdef\u001b[0m \u001b[0m__init__\u001b[0m\u001b[0;34m(\u001b[0m\u001b[0mself\u001b[0m\u001b[0;34m,\u001b[0m \u001b[0mfname\u001b[0m\u001b[0;34m)\u001b[0m\u001b[0;34m:\u001b[0m\u001b[0;34m\u001b[0m\u001b[0;34m\u001b[0m\u001b[0m\n\u001b[1;32m      5\u001b[0m         \u001b[0mword_map\u001b[0m \u001b[0;34m=\u001b[0m \u001b[0myaml\u001b[0m\u001b[0;34m.\u001b[0m\u001b[0mload\u001b[0m\u001b[0;34m(\u001b[0m\u001b[0mopen\u001b[0m\u001b[0;34m(\u001b[0m\u001b[0mfname\u001b[0m\u001b[0;34m)\u001b[0m\u001b[0;34m)\u001b[0m\u001b[0;34m\u001b[0m\u001b[0;34m\u001b[0m\u001b[0m\n",
      "\u001b[0;31mModuleNotFoundError\u001b[0m: No module named 'yaml'"
     ]
    }
   ],
   "source": [
    "import yaml # pip3 install pyyaml\n",
    "\n",
    "class YamlWordReplacer(WordReplacer):\n",
    "    def __init__(self, fname):\n",
    "        word_map = yaml.load(open(fname))\n",
    "        super(YamlWordReplacer, self).__init__(word_map)"
   ]
  },
  {
   "cell_type": "markdown",
   "metadata": {},
   "source": [
    "## Replacing negations with antonyms"
   ]
  },
  {
   "cell_type": "code",
   "execution_count": 59,
   "metadata": {},
   "outputs": [
    {
     "name": "stdout",
     "output_type": "stream",
     "text": [
      "None\n",
      "beautify\n"
     ]
    },
    {
     "data": {
      "text/plain": [
       "['let', \"'s\", 'beautify', 'our', 'code']"
      ]
     },
     "execution_count": 59,
     "metadata": {},
     "output_type": "execute_result"
    }
   ],
   "source": [
    "from nltk.corpus import wordnet\n",
    "from nltk.tokenize import word_tokenize\n",
    "\n",
    "class AntonymReplacer(object):\n",
    "    def replace(self, word, pos=None):\n",
    "        antonyms = set()\n",
    "        for syn in wordnet.synsets(word, pos=pos):\n",
    "            for lemma in syn.lemmas():\n",
    "                for antonym in lemma.antonyms():\n",
    "                    antonyms.add(antonym.name())\n",
    "            if len(antonyms) == 1:\n",
    "                return antonyms.pop()\n",
    "            else:\n",
    "                return None\n",
    "    \n",
    "    def replace_negations(self, sent):\n",
    "        i, l = 0, len(sent)\n",
    "        words = []\n",
    "\n",
    "        while i < l:\n",
    "            word = sent[i]\n",
    "            if word == 'not' and i + 1 < l:\n",
    "                ant = self.replace(sent[i + 1])\n",
    "                if ant:\n",
    "                    words.append(ant)\n",
    "                    i += 2\n",
    "                    continue\n",
    "            words.append(word)\n",
    "            i += 1\n",
    "\n",
    "        return words\n",
    "\n",
    "# example 1\n",
    "replacer = AntonymReplacer()\n",
    "for word in ['good', 'uglify']:\n",
    "    print(replacer.replace(word))\n",
    "sentence = \"let's not uglify our code\"\n",
    "replacer.replace_negations(word_tokenize(sentence))"
   ]
  },
  {
   "cell_type": "code",
   "execution_count": 60,
   "metadata": {},
   "outputs": [
    {
     "data": {
      "text/plain": [
       "['good', 'is', 'good']"
      ]
     },
     "execution_count": 60,
     "metadata": {},
     "output_type": "execute_result"
    }
   ],
   "source": [
    "class AntonymWordReplacer(WordReplacer, AntonymReplacer):\n",
    "    pass\n",
    "\n",
    "replacer = AntonymWordReplacer({'evil': 'good'})\n",
    "sentence = \"good is not evil\"\n",
    "replacer.replace_negations(word_tokenize(sentence))"
   ]
  }
 ],
 "metadata": {
  "kernelspec": {
   "display_name": "Python 3",
   "language": "python",
   "name": "python3"
  },
  "language_info": {
   "codemirror_mode": {
    "name": "ipython",
    "version": 3
   },
   "file_extension": ".py",
   "mimetype": "text/x-python",
   "name": "python",
   "nbconvert_exporter": "python",
   "pygments_lexer": "ipython3",
   "version": "3.7.3"
  }
 },
 "nbformat": 4,
 "nbformat_minor": 2
}
